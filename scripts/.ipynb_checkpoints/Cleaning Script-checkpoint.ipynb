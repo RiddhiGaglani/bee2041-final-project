{
 "cells": [
  {
   "cell_type": "code",
   "execution_count": 1,
   "id": "93550e29",
   "metadata": {},
   "outputs": [
    {
     "name": "stdout",
     "output_type": "stream",
     "text": [
      "Project folders created\n"
     ]
    }
   ],
   "source": [
    "import os\n",
    "\n",
    "# Name the project\n",
    "project_name = \"india_economy_project\"\n",
    "\n",
    "# Create main project folder\n",
    "os.makedirs(project_name, exist_ok=True)\n",
    "\n",
    "# Create subfolders inside the project\n",
    "subfolders = [\"data\", \"notebooks\", \"scripts\"]\n",
    "for folder in subfolders:\n",
    "    os.makedirs(os.path.join(project_name, folder), exist_ok=True)\n",
    "\n",
    "print(\"Project folders created\")"
   ]
  },
  {
   "cell_type": "code",
   "execution_count": 2,
   "id": "4fb4b1eb",
   "metadata": {},
   "outputs": [
    {
     "name": "stdout",
     "output_type": "stream",
     "text": [
      "README.md created\n"
     ]
    }
   ],
   "source": [
    "# Create a README.md file\n",
    "readme_path = os.path.join(project_name, \"README.md\")\n",
    "with open(readme_path, \"w\") as f:\n",
    "    f.write(\"# India's Economy Since Independence\\n\\n\")\n",
    "    f.write(\"This project analyses India's economy from 1947 to 2025 using Python.\\n\")\n",
    "\n",
    "print(\"README.md created\")\n"
   ]
  },
  {
   "cell_type": "code",
   "execution_count": 3,
   "id": "313fde40",
   "metadata": {},
   "outputs": [
    {
     "name": "stdout",
     "output_type": "stream",
     "text": [
      "Git repository initialized and first commit made\n"
     ]
    }
   ],
   "source": [
    "import subprocess\n",
    "\n",
    "# Move into the project folder\n",
    "os.chdir(project_name)\n",
    "\n",
    "subprocess.run([\"git\", \"init\"])\n",
    "\n",
    "subprocess.run([\"git\", \"add\", \".\"])\n",
    "\n",
    "subprocess.run([\"git\", \"commit\", \"-m\", \"Initial commit - project structure created\"])\n",
    "\n",
    "print(\"Git repository initialized and first commit made\")"
   ]
  },
  {
   "cell_type": "code",
   "execution_count": 4,
   "id": "a9c883e6",
   "metadata": {},
   "outputs": [
    {
     "data": {
      "text/plain": [
       "CompletedProcess(args=['git', 'push', '-u', 'origin', 'main'], returncode=1)"
      ]
     },
     "execution_count": 4,
     "metadata": {},
     "output_type": "execute_result"
    }
   ],
   "source": [
    "import subprocess\n",
    "\n",
    "# Link prohect to Github\n",
    "\n",
    "github_repo_url = \"https://github.com/RiddhiGaglani/bee2041-final-project.git\"\n",
    "\n",
    "subprocess.run([\"git\", \"remote\", \"add\", \"origin\", github_repo_url])\n",
    "\n",
    "subprocess.run([\"git\", \"branch\", \"-M\", \"main\"])\n",
    "\n",
    "subprocess.run([\"git\", \"push\", \"-u\", \"origin\", \"main\"])"
   ]
  },
  {
   "cell_type": "code",
   "execution_count": 5,
   "id": "7f99df16",
   "metadata": {},
   "outputs": [
    {
     "name": "stdout",
     "output_type": "stream",
     "text": [
      "Downloading GDP (current US$)...\n",
      "Downloading Inflation (annual %)...\n",
      "Downloading Population...\n",
      "Data downloaded and saved to ../data\\india_economic_data.csv\n",
      "   date  GDP (current US$)  Inflation (annual %)    Population\n",
      "0  2024                NaN              4.953036           NaN\n",
      "1  2023       3.567552e+12              5.649143  1.438070e+09\n",
      "2  2022       3.353470e+12              6.699034  1.425423e+09\n",
      "3  2021       3.167271e+12              5.131407  1.414204e+09\n",
      "4  2020       2.674852e+12              6.623437  1.402618e+09\n",
      "\n",
      "Missing values per column:\n",
      "date                    0\n",
      "GDP (current US$)       1\n",
      "Inflation (annual %)    0\n",
      "Population              1\n",
      "dtype: int64\n",
      "\n",
      " Data cleaned and saved to india_economic_data_clean.csv\n"
     ]
    }
   ],
   "source": [
    "# Import Data\n",
    "\n",
    "import wbdata\n",
    "import pandas as pd\n",
    "import datetime\n",
    "import os\n",
    "\n",
    "country_code = \"IN\"  # India\n",
    "indicators = {\n",
    "    'GDP (current US$)': 'NY.GDP.MKTP.CD',\n",
    "    'Inflation (annual %)': 'FP.CPI.TOTL.ZG',\n",
    "    'Population': 'SP.POP.TOTL'\n",
    "}\n",
    "\n",
    "start_date = datetime.datetime(1947, 1, 1)\n",
    "end_date = datetime.datetime(2024, 12, 31)\n",
    "\n",
    "all_data = {}\n",
    "for name, code in indicators.items():\n",
    "    print(f\"Downloading {name}...\")\n",
    "    series = wbdata.get_series(code, country_code, date=(start_date, end_date))  # ✅ No convert_date\n",
    "    all_data[name] = series\n",
    "\n",
    "# Combine into Data Frame\n",
    "\n",
    "df = pd.DataFrame(all_data)\n",
    "\n",
    "data_folder = \"../data\"\n",
    "os.makedirs(data_folder, exist_ok=True)\n",
    "csv_path = os.path.join(data_folder, \"india_economic_data.csv\")\n",
    "df.to_csv(csv_path, index=True)\n",
    "\n",
    "print(f\"Data downloaded and saved to {csv_path}\")\n",
    "\n",
    "\n",
    "df = pd.read_csv(\"../data/india_economic_data.csv\")\n",
    "\n",
    "\n",
    "print(df.head())\n",
    "\n",
    "# Checking for missing values\n",
    "print(\"\\nMissing values per column:\")\n",
    "print(df.isnull().sum())\n",
    "\n",
    "df = df.sort_values(\"date\")\n",
    "\n",
    "df[\"GDP (current US$)\"] = df[\"GDP (current US$)\"] / 1e9  # Convert to Billions\n",
    "df[\"Population\"] = df[\"Population\"] / 1e6               # Convert to Millions\n",
    "\n",
    "df.rename(columns={\n",
    "    \"GDP (current US$)\": \"GDP (Billion US$)\",\n",
    "    \"Population\": \"Population (Million)\"\n",
    "}, inplace=True)\n",
    "\n",
    "# Save the clean dataset\n",
    "df.to_csv(\"../data/india_economic_data_clean.csv\", index=False)\n",
    "\n",
    "print(\"\\n Data cleaned and saved to india_economic_data_clean.csv\")\n",
    "\n"
   ]
  }
 ],
 "metadata": {
  "kernelspec": {
   "display_name": "Python 3 (ipykernel)",
   "language": "python",
   "name": "python3"
  },
  "language_info": {
   "codemirror_mode": {
    "name": "ipython",
    "version": 3
   },
   "file_extension": ".py",
   "mimetype": "text/x-python",
   "name": "python",
   "nbconvert_exporter": "python",
   "pygments_lexer": "ipython3",
   "version": "3.11.5"
  }
 },
 "nbformat": 4,
 "nbformat_minor": 5
}
